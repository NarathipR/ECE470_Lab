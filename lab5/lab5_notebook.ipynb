{
 "cells": [
  {
   "cell_type": "code",
   "execution_count": 5,
   "metadata": {},
   "outputs": [],
   "source": [
    "def IMG2W(col, row):\n",
    "    pass"
   ]
  },
  {
   "cell_type": "code",
   "execution_count": 6,
   "metadata": {},
   "outputs": [
    {
     "ename": "SyntaxError",
     "evalue": "invalid syntax (2379646188.py, line 64)",
     "output_type": "error",
     "traceback": [
      "\u001b[1;36m  Cell \u001b[1;32mIn[6], line 64\u001b[1;36m\u001b[0m\n\u001b[1;33m    im_with_keypoints = cv2.drawKeypoints(image_raw, keypoints, Scalar(0,0,255), DrawMatchesFlags::DRAW_RICH_KEYPOINTS)\u001b[0m\n\u001b[1;37m                                                                                                 ^\u001b[0m\n\u001b[1;31mSyntaxError\u001b[0m\u001b[1;31m:\u001b[0m invalid syntax\n"
     ]
    }
   ],
   "source": [
    "import cv2\n",
    "import numpy as np\n",
    "def blob_search(image_raw, color):\n",
    "\n",
    "    # Setup SimpleBlobDetector parameters.\n",
    "    params = cv2.SimpleBlobDetector_Params()\n",
    "\n",
    "    # ========================= Student's code starts here =========================\n",
    "\n",
    "    # Filter by Color\n",
    "    params.filterByColor = False\n",
    "\n",
    "    # Filter by Area.\n",
    "    params.filterByArea = True\n",
    "\n",
    "    # Filter by Circularity\n",
    "    params.filterByCircularity = False\n",
    "\n",
    "    # Filter by Inerita\n",
    "    params.filterByInertia = False\n",
    "\n",
    "    # Filter by Convexity\n",
    "    params.filterByConvexity = False\n",
    "\n",
    "    #params.minArea = 50\n",
    "    params.maxArea = 600\n",
    "    # ========================= Student's code ends here ===========================\n",
    "\n",
    "    # Create a detector with the parameters\n",
    "    detector = cv2.SimpleBlobDetector_create(params)\n",
    "\n",
    "    # Convert the image into the HSV color space\n",
    "    hsv_image = cv2.cvtColor(image_raw, cv2.COLOR_BGR2HSV)\n",
    "\n",
    "    # ========================= Student's code starts here =========================\n",
    "    if color==\"blue\":\n",
    "        lower = (110,50,50)     # blue lower\n",
    "        upper = (130,255,255)   # blue upper\n",
    "    elif color==\"orange\":\n",
    "        lower = (10,50,50)     # blue lower\n",
    "        upper = (70,255,255)   # blue upper\n",
    "        #lower = (10, 100, 20)\n",
    "        #upper = (25, 255, 255)\n",
    "        \n",
    "\n",
    "\n",
    "    # Define a mask using the lower and upper bounds of the target color\n",
    "    mask_image = cv2.inRange(hsv_image, lower, upper)\n",
    "\n",
    "    # ========================= Student's code ends here ===========================\n",
    "\n",
    "    keypoints = detector.detect(mask_image)\n",
    "\n",
    "    # Find blob centers in the image coordinates\n",
    "    blob_image_center = []\n",
    "    print('keypoints ',len(keypoints))\n",
    "    num_blobs = len(keypoints)\n",
    "    for i in range(num_blobs):\n",
    "        blob_image_center.append((keypoints[i].pt[0],keypoints[i].pt[1]))\n",
    "    print('blob_image_center  ',blob_image_center)\n",
    "    # ========================= Student's code starts here =========================\n",
    "\n",
    "    # Draw the keypoints on the detected block\n",
    "    im_with_keypoints = cv2.drawKeypoints(image_raw, keypoints, Scalar(0,0,255), DrawMatchesFlags::DRAW_RICH_KEYPOINTS)\n",
    "\n",
    "    # ========================= Student's code ends here ===========================\n",
    "\n",
    "    xw_yw = []\n",
    "\n",
    "    if(num_blobs == 0):\n",
    "        print(\"No block found!\")\n",
    "    else:\n",
    "        # Convert image coordinates to global world coordinate using IM2W() function\n",
    "        for i in range(num_blobs):\n",
    "            xw_yw.append(IMG2W(blob_image_center[i][0], blob_image_center[i][1]))\n",
    "\n",
    "    width = 400\n",
    "    height = 300\n",
    "\n",
    "    # Resize the image\n",
    "    resized_image = cv2.resize(mask_image, (width, height))\n",
    "    cv2.namedWindow(\"Camera View\")\n",
    "    cv2.imshow(\"Camera View\", image_raw)\n",
    "    cv2.namedWindow(\"Mask View\")\n",
    "    cv2.imshow(\"Mask View\", resized_image)\n",
    "    cv2.namedWindow(\"Keypoint View\")\n",
    "    resized_im_with_keypoints = cv2.resize(im_with_keypoints, (width, height))\n",
    "\n",
    "    cv2.imshow(\"Keypoint View\", im_with_keypoints)\n",
    "\n",
    "    cv2.waitKey(0)\n",
    "    cv2.destroyAllWindows()"
   ]
  },
  {
   "cell_type": "code",
   "execution_count": 7,
   "metadata": {},
   "outputs": [],
   "source": [
    "# Python code to read image\n",
    "import cv2\n",
    "\n",
    "# To read image from disk, we use\n",
    "# cv2.imread function, in below method,\n",
    "img = cv2.imread(\"test.png\", cv2.IMREAD_COLOR)\n",
    "\n",
    "# Creating GUI window to display an image on screen\n",
    "# first Parameter is windows title (should be in string format)\n",
    "# Second Parameter is image array\n",
    "# cv2.imshow(\"image\", img)\n",
    "\n",
    "# # To hold the window on screen, we use cv2.waitKey method\n",
    "# # Once it detected the close input, it will release the control\n",
    "# # To the next line\n",
    "# # First Parameter is for holding screen for specified milliseconds\n",
    "# # It should be positive integer. If 0 pass an parameter, then it will\n",
    "# # hold the screen until user close it.\n",
    "# cv2.waitKey(0)\n",
    "\n",
    "# # It is for removing/deleting created GUI window from screen\n",
    "# # and memory\n",
    "# cv2.destroyAllWindows()\n"
   ]
  },
  {
   "cell_type": "code",
   "execution_count": 9,
   "metadata": {},
   "outputs": [
    {
     "name": "stdout",
     "output_type": "stream",
     "text": [
      "keypoints  2\n",
      "blob_image_center   [(348.4031677246094, 715.876220703125), (83.85713958740234, 566.3857421875)]\n"
     ]
    }
   ],
   "source": [
    "blob_search(img, 'orange')"
   ]
  },
  {
   "cell_type": "code",
   "execution_count": 10,
   "metadata": {},
   "outputs": [
    {
     "name": "stdout",
     "output_type": "stream",
     "text": [
      "732.6915788863556\n"
     ]
    }
   ],
   "source": [
    "#beta\n",
    "import numpy as np\n",
    "pt_b=[(308.56256103515625, 59.13813781738281), (235.29429626464844, 58.776371002197266)]\n",
    "pix=np.sqrt((pt_b[0][0]-pt_b[1][0])**2+(pt_b[0][1]-pt_b[1][1])**2)\n",
    "beta=pix/(100/1000)\n",
    "print(beta)\n",
    "# pixel/mm"
   ]
  },
  {
   "cell_type": "code",
   "execution_count": 23,
   "metadata": {},
   "outputs": [
    {
     "name": "stdout",
     "output_type": "stream",
     "text": [
      "73.26826477050781\n",
      "0.3617668151855469\n"
     ]
    }
   ],
   "source": [
    "print(pt_b[0][0]-pt_b[1][0])\n",
    "print((pt_b[0][1]-pt_b[1][1]))"
   ]
  },
  {
   "cell_type": "code",
   "execution_count": 24,
   "metadata": {},
   "outputs": [],
   "source": [
    "alpha=np.arctan2((pt_b[0][0]-pt_b[1][0]),(pt_b[0][1]-pt_b[1][1]))"
   ]
  },
  {
   "cell_type": "code",
   "execution_count": 25,
   "metadata": {},
   "outputs": [
    {
     "name": "stdout",
     "output_type": "stream",
     "text": [
      "1.5658588019816924\n"
     ]
    }
   ],
   "source": [
    "print(alpha)"
   ]
  },
  {
   "cell_type": "code",
   "execution_count": 42,
   "metadata": {},
   "outputs": [],
   "source": [
    "alpha=0.01"
   ]
  },
  {
   "cell_type": "code",
   "execution_count": 29,
   "metadata": {},
   "outputs": [],
   "source": [
    "world=[230.38157653808594, 41.403507232666016]\n",
    "test1=[294.26953125, 229.88270568847656]   \n",
    "#25.5 /8\n",
    "test2=[395.6649475097656, 185.25181579589844]  \n",
    "#21.5/22\n"
   ]
  },
  {
   "cell_type": "code",
   "execution_count": 43,
   "metadata": {},
   "outputs": [],
   "source": [
    "theta=alpha\n",
    "Or=240\n",
    "Oc=320\n",
    "Or=world[1]\n",
    "Oc=world[0]\n",
    "\n",
    "def IMG2W(col, row):\n",
    "    x_c=(row-Or)/beta\n",
    "    y_c=(col-Oc)/beta\n",
    "    print('x_c   ',x_c)\n",
    "    print('y_c   ',y_c)\n",
    "\n",
    "    x_w=x_c*np.cos(theta)+y_c*np.sin(theta)\n",
    "    y_w=-x_c*np.sin(theta)+y_c*np.cos(theta)\n",
    "    return [x_w,y_w]"
   ]
  },
  {
   "cell_type": "code",
   "execution_count": 44,
   "metadata": {},
   "outputs": [
    {
     "name": "stdout",
     "output_type": "stream",
     "text": [
      "x_c    0.0\n",
      "y_c    0.0\n"
     ]
    },
    {
     "data": {
      "text/plain": [
       "[0.0, 0.0]"
      ]
     },
     "execution_count": 44,
     "metadata": {},
     "output_type": "execute_result"
    }
   ],
   "source": [
    "IMG2W(230.38157653808594,41.403507232666016)"
   ]
  },
  {
   "cell_type": "code",
   "execution_count": 45,
   "metadata": {},
   "outputs": [
    {
     "name": "stdout",
     "output_type": "stream",
     "text": [
      "x_c    0.2572422065260896\n",
      "y_c    0.08719624539566795\n"
     ]
    },
    {
     "data": {
      "text/plain": [
       "[0.25810129244426894, 0.08461950642795563]"
      ]
     },
     "execution_count": 45,
     "metadata": {},
     "output_type": "execute_result"
    }
   ],
   "source": [
    "IMG2W(test1[0], test1[1])\n"
   ]
  },
  {
   "cell_type": "code",
   "execution_count": 46,
   "metadata": {},
   "outputs": [
    {
     "name": "stdout",
     "output_type": "stream",
     "text": [
      "x_c    0.19632859542602177\n",
      "y_c    0.2255838278131978\n"
     ]
    },
    {
     "data": {
      "text/plain": [
       "[0.19857457975906911, 0.22360929548280883]"
      ]
     },
     "execution_count": 46,
     "metadata": {},
     "output_type": "execute_result"
    }
   ],
   "source": [
    "IMG2W(test2[0], test2[1])\n"
   ]
  },
  {
   "cell_type": "code",
   "execution_count": 49,
   "metadata": {},
   "outputs": [],
   "source": [
    "theta=alpha\n",
    "Or=240\n",
    "Oc=320\n",
    "#Or=world[1]\n",
    "#Oc=world[0]\n",
    "##nope\n",
    "def IMG2W(col, row):\n",
    "    x_c=(row-Or)/beta\n",
    "    y_c=(col-Oc)/beta\n",
    "    print('x_c   ',x_c)\n",
    "    print('y_c   ',y_c)\n",
    "\n",
    "    x_w=x_c*np.cos(theta)+y_c*np.sin(theta)-(world[1]-Or)/beta\n",
    "    y_w=-x_c*np.sin(theta)+y_c*np.cos(theta)-(world[0]-Oc)/beta\n",
    "    return [x_w,y_w]"
   ]
  },
  {
   "cell_type": "code",
   "execution_count": 52,
   "metadata": {},
   "outputs": [
    {
     "name": "stdout",
     "output_type": "stream",
     "text": [
      "x_c    -0.07472200552286312\n",
      "y_c    0.10326984735483313\n"
     ]
    },
    {
     "data": {
      "text/plain": [
       "[0.197365012757157, 0.22632587196548234]"
      ]
     },
     "execution_count": 52,
     "metadata": {},
     "output_type": "execute_result"
    }
   ],
   "source": [
    "#IMG2W(test1[0], test1[1])\n",
    "IMG2W(test2[0], test2[1])\n"
   ]
  },
  {
   "cell_type": "code",
   "execution_count": null,
   "metadata": {},
   "outputs": [],
   "source": []
  }
 ],
 "metadata": {
  "kernelspec": {
   "display_name": "Python 3",
   "language": "python",
   "name": "python3"
  },
  "language_info": {
   "codemirror_mode": {
    "name": "ipython",
    "version": 3
   },
   "file_extension": ".py",
   "mimetype": "text/x-python",
   "name": "python",
   "nbconvert_exporter": "python",
   "pygments_lexer": "ipython3",
   "version": "3.11.5"
  }
 },
 "nbformat": 4,
 "nbformat_minor": 2
}
